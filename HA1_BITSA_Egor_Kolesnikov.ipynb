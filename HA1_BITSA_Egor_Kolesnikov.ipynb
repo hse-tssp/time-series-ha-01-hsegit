{
 "cells": [
  {
   "cell_type": "markdown",
   "metadata": {},
   "source": [
    "## Time Series Analysis: Home Assignment 1"
   ]
  },
  {
   "cell_type": "markdown",
   "metadata": {},
   "source": [
    "due to **11.02.21 23:00**\n",
    "\n",
    "You need to upload HA1 to github repository,  the link will be provided later."
   ]
  },
  {
   "cell_type": "markdown",
   "metadata": {},
   "source": [
    "Enter your name below: "
   ]
  },
  {
   "cell_type": "code",
   "execution_count": 1,
   "metadata": {},
   "outputs": [],
   "source": [
    "name='Kolesnikov Egor' \n",
    "group='MFA 201' "
   ]
  },
  {
   "cell_type": "markdown",
   "metadata": {},
   "source": [
    "### Contents"
   ]
  },
  {
   "cell_type": "markdown",
   "metadata": {},
   "source": [
    "1. **Data preparation (7 points)**\n",
    "\n",
    "    $1.0$ Download data and import functions\n",
    "    \n",
    "    $1.1$ Read data (1 pt.)      <span      style=\"color: green\">**DONE**</span>\n",
    "    \n",
    "    $1.2$ Check NAs (1 pt.)     <span      style=\"color: green\">**DONE**</span>\n",
    "    \n",
    "    $1.3$ Transform dates (2 pt.)     <span      style=\"color: green\">**DONE**</span>\n",
    "    \n",
    "    $1.4$. Make some plots (0.75 pt.)     <span      style=\"color: green\">**DONE**</span>\n",
    "    \n",
    "    $1.5$ Split the data (0.75 pt.)     <span      style=\"color: green\">**DONE**</span>\n",
    "    \n",
    " \n",
    "2. **ETS (7 points)**\n",
    "\n",
    "    $2.1$ Estimate ETS (1 pt.)     <span      style=\"color: green\">**DONE**</span>\n",
    "    \n",
    "    $2.2$ Point forecasts (1 pt.)     <span      style=\"color: green\">**DONE**</span>\n",
    "    \n",
    "    $2.3$ Interval forecasts 1 (1 pt.)     <span      style=\"color: green\">**DONE**</span>\n",
    "    \n",
    "    $2.4$ Interval forecasts 2 (1 pt.)     <span      style=\"color: green\">**DONE**</span>\n",
    "    \n",
    "    $2.5$ Forecast quality metrics (2 pt.)     <span      style=\"color: green\">**DONE**</span>\n",
    "         \n",
    "    $2.6$ Model comparison (1 pt.)     <span      style=\"color: green\">**DONE**</span>\n",
    "    "
   ]
  },
  {
   "cell_type": "markdown",
   "metadata": {},
   "source": [
    "## 1. Data preparation (7 pt.)"
   ]
  },
  {
   "cell_type": "markdown",
   "metadata": {},
   "source": [
    "### 1.0 Download data and import functions\n",
    "[back to contents](#Contents)"
   ]
  },
  {
   "cell_type": "markdown",
   "metadata": {},
   "source": [
    "You have to download [BI_TSA_HA_1_data.csv](https://github.com/bdemeshev/ts603/blob/master/2021-spring/BI_TSA_HA_1_data.csv), which represents quarterly sales of Walmart from 1984 to 2020. The sourse of the data is [ycharts.com](https://ycharts.com/companies/WMT/revenues). "
   ]
  },
  {
   "cell_type": "code",
   "execution_count": 2,
   "metadata": {},
   "outputs": [],
   "source": [
    "import pandas as pd\n",
    "import numpy as np\n",
    "from sktime.utils.plotting import plot_series\n",
    "from sktime.forecasting.model_selection import temporal_train_test_split\n",
    "from statsmodels.tsa.exponential_smoothing.ets import ETSModel\n",
    "from sklearn.metrics import  mean_absolute_error, mean_squared_error"
   ]
  },
  {
   "cell_type": "markdown",
   "metadata": {},
   "source": [
    "### 1.1 Read data (1 pt.)\n",
    "[back to contents](#Contents)"
   ]
  },
  {
   "cell_type": "markdown",
   "metadata": {},
   "source": [
    "Read the downloaded data from your local computer and name it ``` df ```\n",
    "\n",
    "Alternatively, you can skip 1.0 and access data directly putting ```'https://raw.github.com/bdemeshev/ts603/master/2021-spring/BI_TSA_HA_1_data.csv'``` inside ```read_csv```\n",
    "\n",
    "use ``` pd.read_csv('... .csv') ```"
   ]
  },
  {
   "cell_type": "code",
   "execution_count": 3,
   "metadata": {},
   "outputs": [],
   "source": [
    "#code here (1 pt.)\n",
    "df=pd.read_csv('https://raw.github.com/bdemeshev/ts603/master/2021-spring/BI_TSA_HA_1_data.csv')"
   ]
  },
  {
   "cell_type": "markdown",
   "metadata": {},
   "source": [
    "### 1.2 Check NAs (1 pt.)\n",
    "[back to contents](#Contents)"
   ]
  },
  {
   "cell_type": "markdown",
   "metadata": {},
   "source": [
    "Check whether ``` df ``` contains missing values(NAs):\n",
    "\n",
    "apply ``` isna().value_counts() ``` to ``` df ```"
   ]
  },
  {
   "cell_type": "code",
   "execution_count": 14,
   "metadata": {},
   "outputs": [
    {
     "data": {
      "text/html": [
       "<div>\n",
       "<style scoped>\n",
       "    .dataframe tbody tr th:only-of-type {\n",
       "        vertical-align: middle;\n",
       "    }\n",
       "\n",
       "    .dataframe tbody tr th {\n",
       "        vertical-align: top;\n",
       "    }\n",
       "\n",
       "    .dataframe thead th {\n",
       "        text-align: right;\n",
       "    }\n",
       "</style>\n",
       "<table border=\"1\" class=\"dataframe\">\n",
       "  <thead>\n",
       "    <tr style=\"text-align: right;\">\n",
       "      <th></th>\n",
       "      <th>sales</th>\n",
       "      <th>month</th>\n",
       "      <th>day</th>\n",
       "      <th>year</th>\n",
       "    </tr>\n",
       "  </thead>\n",
       "  <tbody>\n",
       "    <tr>\n",
       "      <th>0</th>\n",
       "      <td>False</td>\n",
       "      <td>False</td>\n",
       "      <td>False</td>\n",
       "      <td>False</td>\n",
       "    </tr>\n",
       "    <tr>\n",
       "      <th>1</th>\n",
       "      <td>False</td>\n",
       "      <td>False</td>\n",
       "      <td>False</td>\n",
       "      <td>False</td>\n",
       "    </tr>\n",
       "    <tr>\n",
       "      <th>2</th>\n",
       "      <td>False</td>\n",
       "      <td>False</td>\n",
       "      <td>False</td>\n",
       "      <td>False</td>\n",
       "    </tr>\n",
       "    <tr>\n",
       "      <th>3</th>\n",
       "      <td>False</td>\n",
       "      <td>False</td>\n",
       "      <td>False</td>\n",
       "      <td>False</td>\n",
       "    </tr>\n",
       "    <tr>\n",
       "      <th>4</th>\n",
       "      <td>False</td>\n",
       "      <td>False</td>\n",
       "      <td>False</td>\n",
       "      <td>False</td>\n",
       "    </tr>\n",
       "    <tr>\n",
       "      <th>...</th>\n",
       "      <td>...</td>\n",
       "      <td>...</td>\n",
       "      <td>...</td>\n",
       "      <td>...</td>\n",
       "    </tr>\n",
       "    <tr>\n",
       "      <th>142</th>\n",
       "      <td>False</td>\n",
       "      <td>False</td>\n",
       "      <td>False</td>\n",
       "      <td>False</td>\n",
       "    </tr>\n",
       "    <tr>\n",
       "      <th>143</th>\n",
       "      <td>False</td>\n",
       "      <td>False</td>\n",
       "      <td>False</td>\n",
       "      <td>False</td>\n",
       "    </tr>\n",
       "    <tr>\n",
       "      <th>144</th>\n",
       "      <td>False</td>\n",
       "      <td>False</td>\n",
       "      <td>False</td>\n",
       "      <td>False</td>\n",
       "    </tr>\n",
       "    <tr>\n",
       "      <th>145</th>\n",
       "      <td>False</td>\n",
       "      <td>False</td>\n",
       "      <td>False</td>\n",
       "      <td>False</td>\n",
       "    </tr>\n",
       "    <tr>\n",
       "      <th>146</th>\n",
       "      <td>False</td>\n",
       "      <td>False</td>\n",
       "      <td>False</td>\n",
       "      <td>False</td>\n",
       "    </tr>\n",
       "  </tbody>\n",
       "</table>\n",
       "<p>147 rows × 4 columns</p>\n",
       "</div>"
      ],
      "text/plain": [
       "     sales  month    day   year\n",
       "0    False  False  False  False\n",
       "1    False  False  False  False\n",
       "2    False  False  False  False\n",
       "3    False  False  False  False\n",
       "4    False  False  False  False\n",
       "..     ...    ...    ...    ...\n",
       "142  False  False  False  False\n",
       "143  False  False  False  False\n",
       "144  False  False  False  False\n",
       "145  False  False  False  False\n",
       "146  False  False  False  False\n",
       "\n",
       "[147 rows x 4 columns]"
      ]
     },
     "execution_count": 14,
     "metadata": {},
     "output_type": "execute_result"
    }
   ],
   "source": [
    "# we use df.isna() to find missing values (if some value is missed, so \"True\")\n",
    "df.isna() "
   ]
  },
  {
   "cell_type": "code",
   "execution_count": 17,
   "metadata": {
    "collapsed": true,
    "jupyter": {
     "outputs_hidden": true
    }
   },
   "outputs": [
    {
     "data": {
      "text/plain": [
       "sales  month  day    year \n",
       "False  False  False  False    147\n",
       "dtype: int64"
      ]
     },
     "execution_count": 17,
     "metadata": {},
     "output_type": "execute_result"
    }
   ],
   "source": [
    "print(df.isna().value_counts())"
   ]
  },
  {
   "cell_type": "markdown",
   "metadata": {},
   "source": [
    "How many missing values are there in ``` df ```?"
   ]
  },
  {
   "cell_type": "markdown",
   "metadata": {},
   "source": [
    "0 values are missed"
   ]
  },
  {
   "cell_type": "markdown",
   "metadata": {},
   "source": [
    "### 1.3 Dates transformation (2 pt.)\n",
    "[back to contents](#Contents)"
   ]
  },
  {
   "cell_type": "markdown",
   "metadata": {},
   "source": [
    "How are dates represented in the original dataset? "
   ]
  },
  {
   "cell_type": "code",
   "execution_count": 20,
   "metadata": {},
   "outputs": [
    {
     "name": "stdout",
     "output_type": "stream",
     "text": [
      "sales    float64\n",
      "month      int64\n",
      "day        int64\n",
      "year       int64\n",
      "dtype: object\n"
     ]
    }
   ],
   "source": [
    "print(df.dtypes)"
   ]
  },
  {
   "cell_type": "markdown",
   "metadata": {},
   "source": [
    "Transform dates to datetime format:\n",
    "\n",
    "``` df['date']=df['...']*10000+df['...']*100+df['...']*1 ```\n",
    "\n",
    "``` df['date']=pd.to_datetime(df['date'], format='%Y%m%d') ```\n",
    "\n",
    "change each ``` df['...'] ``` to one of ``` df['month'] ```, ``` df['year'] ```, ``` df['day'] ```according to ``` format='%Y%m%d'```"
   ]
  },
  {
   "cell_type": "code",
   "execution_count": 23,
   "metadata": {
    "collapsed": true,
    "jupyter": {
     "outputs_hidden": true
    }
   },
   "outputs": [
    {
     "name": "stdout",
     "output_type": "stream",
     "text": [
      "Requirement already satisfied: datetime in c:\\abaconda\\lib\\site-packages (4.3)\n",
      "Requirement already satisfied: zope.interface in c:\\abaconda\\lib\\site-packages (from datetime) (5.1.2)\n",
      "Requirement already satisfied: pytz in c:\\abaconda\\lib\\site-packages (from datetime) (2020.1)\n",
      "Requirement already satisfied: setuptools in c:\\abaconda\\lib\\site-packages (from zope.interface->datetime) (50.3.1.post20201107)\n"
     ]
    }
   ],
   "source": [
    "!pip install datetime\n",
    "from datetime import date, datetime"
   ]
  },
  {
   "cell_type": "code",
   "execution_count": 24,
   "metadata": {},
   "outputs": [],
   "source": [
    "df['date']=df['year']*10000+df['month']*100+df['day']*1\n",
    "df['date']=pd.to_datetime(df['date'], format='%Y%m%d')"
   ]
  },
  {
   "cell_type": "markdown",
   "metadata": {},
   "source": [
    "Change index to dates:\n",
    "\n",
    "``` df.index=.... ```"
   ]
  },
  {
   "cell_type": "code",
   "execution_count": 26,
   "metadata": {},
   "outputs": [
    {
     "name": "stdout",
     "output_type": "stream",
     "text": [
      "DatetimeIndex(['2020-10-31', '2020-07-31', '2020-04-30', '2020-01-31',\n",
      "               '2019-10-31', '2019-07-31', '2019-04-30', '2019-01-31',\n",
      "               '2018-10-31', '2018-07-31',\n",
      "               ...\n",
      "               '1986-07-31', '1986-04-30', '1986-01-31', '1985-10-31',\n",
      "               '1985-07-31', '1985-04-30', '1985-01-31', '1984-10-31',\n",
      "               '1984-07-31', '1984-04-30'],\n",
      "              dtype='datetime64[ns]', name='date', length=147, freq=None)\n"
     ]
    }
   ],
   "source": [
    "df.index = pd.to_datetime(df['date'])\n",
    "print(df.index)"
   ]
  },
  {
   "cell_type": "markdown",
   "metadata": {},
   "source": [
    "What is the size of the dataset?\n",
    "\n",
    "use ```.shape```"
   ]
  },
  {
   "cell_type": "code",
   "execution_count": 28,
   "metadata": {},
   "outputs": [
    {
     "data": {
      "text/plain": [
       "(147, 5)"
      ]
     },
     "execution_count": 28,
     "metadata": {},
     "output_type": "execute_result"
    }
   ],
   "source": [
    "df.shape"
   ]
  },
  {
   "cell_type": "markdown",
   "metadata": {},
   "source": [
    "Drop columns ['day', 'year','month','date']:\n",
    "\n",
    "```df=df.drop(..., axis=1)```"
   ]
  },
  {
   "cell_type": "code",
   "execution_count": 29,
   "metadata": {},
   "outputs": [],
   "source": [
    "df=df.drop(['day', 'year','month','date'], axis=1)"
   ]
  },
  {
   "cell_type": "markdown",
   "metadata": {},
   "source": [
    "What is the size of the dataset now?"
   ]
  },
  {
   "cell_type": "code",
   "execution_count": 30,
   "metadata": {},
   "outputs": [
    {
     "data": {
      "text/plain": [
       "(147, 1)"
      ]
     },
     "execution_count": 30,
     "metadata": {},
     "output_type": "execute_result"
    }
   ],
   "source": [
    "df.shape"
   ]
  },
  {
   "cell_type": "markdown",
   "metadata": {},
   "source": [
    "### 1.4 Plot data (0.75 pt.)\n",
    "[back to contents](#Contents)"
   ]
  },
  {
   "cell_type": "markdown",
   "metadata": {},
   "source": [
    "transform data frame column to series:\n",
    "\n",
    "```y=df['date']```"
   ]
  },
  {
   "cell_type": "code",
   "execution_count": 58,
   "metadata": {},
   "outputs": [],
   "source": [
    "y = df['sales']"
   ]
  },
  {
   "cell_type": "markdown",
   "metadata": {},
   "source": [
    "```plot_series``` gets a series as an argument, whose dates sorted in ascending order.\n",
    "Transform your time series by changing descending order to ascending order:\n",
    "\n",
    "apply ```np.flip``` to ```y``` and name the result ```y```"
   ]
  },
  {
   "cell_type": "code",
   "execution_count": 59,
   "metadata": {},
   "outputs": [
    {
     "name": "stdout",
     "output_type": "stream",
     "text": [
      "date\n",
      "1984-04-30      1.235\n",
      "1984-07-31      1.508\n",
      "1984-10-31      1.584\n",
      "1985-01-31      2.074\n",
      "1985-04-30      1.656\n",
      "               ...   \n",
      "2019-10-31    127.990\n",
      "2020-01-31    141.670\n",
      "2020-04-30    134.620\n",
      "2020-07-31    137.740\n",
      "2020-10-31    134.710\n",
      "Name: sales, Length: 147, dtype: float64\n"
     ]
    }
   ],
   "source": [
    "y=np.flip(y)\n",
    "print(y)"
   ]
  },
  {
   "cell_type": "markdown",
   "metadata": {},
   "source": [
    "Plot the series using ```plot_series()```"
   ]
  },
  {
   "cell_type": "code",
   "execution_count": 95,
   "metadata": {},
   "outputs": [
    {
     "data": {
      "image/png": "[encoded data removed]",
      "text/plain": [
       "<Figure size 1152x288 with 1 Axes>"
      ]
     },
     "metadata": {
      "needs_background": "light"
     },
     "output_type": "display_data"
    }
   ],
   "source": [
    "import matplotlib.pyplot as plt\n",
    "import matplotlib\n",
    "plot_series(y);\n",
    "plt.gca().xaxis.set_major_formatter(matplotlib.dates.DateFormatter(\"%D\"))"
   ]
  },
  {
   "cell_type": "markdown",
   "metadata": {},
   "source": [
    "### 1.5 Split data (0.75 pt.)\n",
    "[back to contents](#Contents)"
   ]
  },
  {
   "cell_type": "markdown",
   "metadata": {},
   "source": [
    "Split the data into train and test samples:\n",
    "\n",
    "``` temporal_train_test_split(...) ```\n",
    "\n",
    "choose ``` test_size=0.2 ```"
   ]
  },
  {
   "cell_type": "code",
   "execution_count": 119,
   "metadata": {},
   "outputs": [],
   "source": [
    "from sktime.forecasting.model_selection import temporal_train_test_split\n",
    "y_train, y_test = temporal_train_test_split(y, test_size=0.2)"
   ]
  },
  {
   "cell_type": "markdown",
   "metadata": {},
   "source": [
    "plot train and test samples using ``` plot_series ```"
   ]
  },
  {
   "cell_type": "code",
   "execution_count": 120,
   "metadata": {},
   "outputs": [
    {
     "data": {
      "image/png": "[encoded data removed]",
      "text/plain": [
       "<Figure size 1152x288 with 1 Axes>"
      ]
     },
     "metadata": {
      "needs_background": "light"
     },
     "output_type": "display_data"
    }
   ],
   "source": [
    "plot_series(y_train, y_test, labels=['train', 'test']);"
   ]
  },
  {
   "cell_type": "markdown",
   "metadata": {},
   "source": [
    "## 2. ETS (7 pt.)"
   ]
  },
  {
   "cell_type": "markdown",
   "metadata": {},
   "source": [
    "### 2.1 Estimate ETS (MAA) and (AAM) (1 pt.)\n",
    "[back to contents](#Contents)"
   ]
  },
  {
   "cell_type": "markdown",
   "metadata": {},
   "source": [
    "Start with ETS (MAA). Estimate the model and name it ```model_MAA```:\n",
    "\n",
    "```ETSModel(..., error='...', trend='...', seasonal='...', seasonal_periods=...)```\n",
    "\n",
    "```fit_MAA=model_MAA.fit()```\n"
   ]
  },
  {
   "cell_type": "code",
   "execution_count": 147,
   "metadata": {},
   "outputs": [
    {
     "name": "stderr",
     "output_type": "stream",
     "text": [
      "C:\\abaconda\\lib\\site-packages\\statsmodels\\tsa\\base\\tsa_model.py:524: ValueWarning: No frequency information was provided, so inferred frequency Q-OCT will be used.\n",
      "  warnings.warn('No frequency information was'\n"
     ]
    }
   ],
   "source": [
    "from statsmodels.tsa.exponential_smoothing.ets import ETSModel\n",
    "model_MAA = ETSModel(y_train, error='mul', trend='add', seasonal='add', seasonal_periods=4)\n",
    "fit_MAA=model_MAA.fit()"
   ]
  },
  {
   "cell_type": "markdown",
   "metadata": {},
   "source": [
    "Estimate ETS (AAM) with the same characteristics:\n",
    "    \n",
    "```ETSModel(..., error='...', trend='...', seasonal='...', seasonal_periods=...)```\n",
    "\n",
    "```fit_AAM=model_AAM.fit()```\n"
   ]
  },
  {
   "cell_type": "code",
   "execution_count": 148,
   "metadata": {},
   "outputs": [
    {
     "name": "stderr",
     "output_type": "stream",
     "text": [
      "C:\\abaconda\\lib\\site-packages\\statsmodels\\tsa\\base\\tsa_model.py:524: ValueWarning: No frequency information was provided, so inferred frequency Q-OCT will be used.\n",
      "  warnings.warn('No frequency information was'\n"
     ]
    }
   ],
   "source": [
    "from statsmodels.tsa.exponential_smoothing.ets import ETSModel\n",
    "model_AAM = ETSModel(y_train, error='add', trend='add', seasonal='mul', seasonal_periods=4)\n",
    "fit_AAM=model_AAM.fit()"
   ]
  },
  {
   "cell_type": "markdown",
   "metadata": {},
   "source": [
    "### 2.2 Point forecasts (1 pt.)\n",
    "[back to contents](#Contents)"
   ]
  },
  {
   "cell_type": "markdown",
   "metadata": {},
   "source": [
    "Obtain point forecasts for ETS(MAA) with forecasting horizon=30 quarters:\n",
    "\n",
    "```fit_MAA.forecast(steps=...)```"
   ]
  },
  {
   "cell_type": "code",
   "execution_count": 149,
   "metadata": {},
   "outputs": [
    {
     "data": {
      "text/plain": [
       "2013-07-31    117.848870\n",
       "2013-10-31    117.364671\n",
       "2014-01-31    130.725437\n",
       "2014-04-30    117.901781\n",
       "2014-07-31    121.230478\n",
       "2014-10-31    120.746279\n",
       "2015-01-31    134.107044\n",
       "2015-04-30    121.283388\n",
       "2015-07-31    124.612085\n",
       "2015-10-31    124.127886\n",
       "2016-01-31    137.488652\n",
       "2016-04-30    124.664996\n",
       "2016-07-31    127.993693\n",
       "2016-10-31    127.509494\n",
       "2017-01-31    140.870260\n",
       "2017-04-30    128.046604\n",
       "2017-07-31    131.375300\n",
       "2017-10-31    130.891102\n",
       "2018-01-31    144.251867\n",
       "2018-04-30    131.428211\n",
       "2018-07-31    134.756908\n",
       "2018-10-31    134.272709\n",
       "2019-01-31    147.633475\n",
       "2019-04-30    134.809819\n",
       "2019-07-31    138.138516\n",
       "2019-10-31    137.654317\n",
       "2020-01-31    151.015083\n",
       "2020-04-30    138.191426\n",
       "2020-07-31    141.520123\n",
       "2020-10-31    141.035924\n",
       "Freq: Q-OCT, Name: simulation, dtype: float64"
      ]
     },
     "execution_count": 149,
     "metadata": {},
     "output_type": "execute_result"
    }
   ],
   "source": [
    "fit_MAA.forecast(steps=30)"
   ]
  },
  {
   "cell_type": "markdown",
   "metadata": {},
   "source": [
    "Obtain point forecasts for ETS(AAM) with forecasting horizon=30 quarters:\n",
    "\n",
    "```fit_AAM.forecast(steps=...)```"
   ]
  },
  {
   "cell_type": "code",
   "execution_count": 150,
   "metadata": {},
   "outputs": [
    {
     "data": {
      "text/plain": [
       "2013-07-31    119.244420\n",
       "2013-10-31    117.867086\n",
       "2014-01-31    133.457370\n",
       "2014-04-30    118.815370\n",
       "2014-07-31    124.107313\n",
       "2014-10-31    122.625299\n",
       "2015-01-31    138.791122\n",
       "2015-04-30    123.516964\n",
       "2015-07-31    128.970205\n",
       "2015-10-31    127.383511\n",
       "2016-01-31    144.124873\n",
       "2016-04-30    128.218558\n",
       "2016-07-31    133.833098\n",
       "2016-10-31    132.141724\n",
       "2017-01-31    149.458625\n",
       "2017-04-30    132.920152\n",
       "2017-07-31    138.695990\n",
       "2017-10-31    136.899936\n",
       "2018-01-31    154.792376\n",
       "2018-04-30    137.621746\n",
       "2018-07-31    143.558882\n",
       "2018-10-31    141.658149\n",
       "2019-01-31    160.126128\n",
       "2019-04-30    142.323340\n",
       "2019-07-31    148.421775\n",
       "2019-10-31    146.416362\n",
       "2020-01-31    165.459879\n",
       "2020-04-30    147.024934\n",
       "2020-07-31    153.284667\n",
       "2020-10-31    151.174574\n",
       "Freq: Q-OCT, Name: simulation, dtype: float64"
      ]
     },
     "execution_count": 150,
     "metadata": {},
     "output_type": "execute_result"
    }
   ],
   "source": [
    "fit_AAM.forecast(steps=30)"
   ]
  },
  {
   "cell_type": "markdown",
   "metadata": {},
   "source": [
    "Plot both forecasts (AAM) and (MAA), test and train data\n",
    "\n",
    "```plot_series()```"
   ]
  },
  {
   "cell_type": "code",
   "execution_count": 151,
   "metadata": {},
   "outputs": [
    {
     "data": {
      "text/plain": [
       "(<Figure size 1152x288 with 1 Axes>, <AxesSubplot:ylabel='sales'>)"
      ]
     },
     "execution_count": 151,
     "metadata": {},
     "output_type": "execute_result"
    },
    {
     "data": {
      "image/png": "[encoded data removed]",
      "text/plain": [
       "<Figure size 1152x288 with 1 Axes>"
      ]
     },
     "metadata": {
      "needs_background": "light"
     },
     "output_type": "display_data"
    }
   ],
   "source": [
    "y_pred1 = fit_AAM.forecast(steps=30)\n",
    "y_pred2 = fit_MAA.forecast(steps=30)\n",
    "\n",
    "plot_series(y_train, y_test, y_pred1, y_pred2, labels=['Train', 'Test', 'AAM model', 'MAA model'])"
   ]
  },
  {
   "cell_type": "code",
   "execution_count": 153,
   "metadata": {},
   "outputs": [
    {
     "data": {
      "text/plain": [
       "(<Figure size 1152x288 with 1 Axes>, <AxesSubplot:ylabel='sales'>)"
      ]
     },
     "execution_count": 153,
     "metadata": {},
     "output_type": "execute_result"
    },
    {
     "data": {
      "image/png": "[encoded data removed]",
      "text/plain": [
       "<Figure size 1152x288 with 1 Axes>"
      ]
     },
     "metadata": {
      "needs_background": "light"
     },
     "output_type": "display_data"
    }
   ],
   "source": [
    "plot_series(y_test, y_pred1, y_pred2, labels=['Test', 'AAM model', 'MAA model'])"
   ]
  },
  {
   "cell_type": "markdown",
   "metadata": {},
   "source": [
    "### 2.3 Interval forecasts ETS(MAA) (1 pt.)\n",
    "[back to contents](#Contents)"
   ]
  },
  {
   "cell_type": "markdown",
   "metadata": {},
   "source": [
    "Get 95% confidence intervals:\n",
    "\n",
    "```pred_MAA=fit_MAA.get_prediction(start='2013-07-31', end='2020-10-31') ```\n",
    "\n",
    "``` pred_MAA=pred_MAA.summary_frame(alpha=0.05) ```\n",
    "\n",
    "Expract upper and lower bounds from ```pred_MAA``` and name them ```upper_int``` and ```lower_int```\n"
   ]
  },
  {
   "cell_type": "code",
   "execution_count": 177,
   "metadata": {},
   "outputs": [
    {
     "data": {
      "text/html": [
       "<div>\n",
       "<style scoped>\n",
       "    .dataframe tbody tr th:only-of-type {\n",
       "        vertical-align: middle;\n",
       "    }\n",
       "\n",
       "    .dataframe tbody tr th {\n",
       "        vertical-align: top;\n",
       "    }\n",
       "\n",
       "    .dataframe thead th {\n",
       "        text-align: right;\n",
       "    }\n",
       "</style>\n",
       "<table border=\"1\" class=\"dataframe\">\n",
       "  <thead>\n",
       "    <tr style=\"text-align: right;\">\n",
       "      <th></th>\n",
       "      <th>mean</th>\n",
       "      <th>mean_numerical</th>\n",
       "      <th>lower_int</th>\n",
       "      <th>upper_int</th>\n",
       "    </tr>\n",
       "  </thead>\n",
       "  <tbody>\n",
       "    <tr>\n",
       "      <th>2013-07-31</th>\n",
       "      <td>117.848870</td>\n",
       "      <td>117.705074</td>\n",
       "      <td>107.735137</td>\n",
       "      <td>127.534253</td>\n",
       "    </tr>\n",
       "    <tr>\n",
       "      <th>2013-10-31</th>\n",
       "      <td>117.364671</td>\n",
       "      <td>117.337341</td>\n",
       "      <td>106.386027</td>\n",
       "      <td>128.928195</td>\n",
       "    </tr>\n",
       "    <tr>\n",
       "      <th>2014-01-31</th>\n",
       "      <td>130.725437</td>\n",
       "      <td>130.763066</td>\n",
       "      <td>117.887828</td>\n",
       "      <td>144.511963</td>\n",
       "    </tr>\n",
       "    <tr>\n",
       "      <th>2014-04-30</th>\n",
       "      <td>117.901781</td>\n",
       "      <td>118.032985</td>\n",
       "      <td>103.358684</td>\n",
       "      <td>133.093461</td>\n",
       "    </tr>\n",
       "    <tr>\n",
       "      <th>2014-07-31</th>\n",
       "      <td>121.230478</td>\n",
       "      <td>121.497114</td>\n",
       "      <td>101.305720</td>\n",
       "      <td>141.804978</td>\n",
       "    </tr>\n",
       "    <tr>\n",
       "      <th>2014-10-31</th>\n",
       "      <td>120.746279</td>\n",
       "      <td>121.006920</td>\n",
       "      <td>98.899451</td>\n",
       "      <td>145.815412</td>\n",
       "    </tr>\n",
       "    <tr>\n",
       "      <th>2015-01-31</th>\n",
       "      <td>134.107044</td>\n",
       "      <td>134.685863</td>\n",
       "      <td>108.835016</td>\n",
       "      <td>164.637301</td>\n",
       "    </tr>\n",
       "    <tr>\n",
       "      <th>2015-04-30</th>\n",
       "      <td>121.283388</td>\n",
       "      <td>121.696968</td>\n",
       "      <td>94.284019</td>\n",
       "      <td>154.932834</td>\n",
       "    </tr>\n",
       "    <tr>\n",
       "      <th>2015-07-31</th>\n",
       "      <td>124.612085</td>\n",
       "      <td>125.029985</td>\n",
       "      <td>91.808842</td>\n",
       "      <td>165.166101</td>\n",
       "    </tr>\n",
       "    <tr>\n",
       "      <th>2015-10-31</th>\n",
       "      <td>124.127886</td>\n",
       "      <td>124.780695</td>\n",
       "      <td>89.391118</td>\n",
       "      <td>167.516899</td>\n",
       "    </tr>\n",
       "    <tr>\n",
       "      <th>2016-01-31</th>\n",
       "      <td>137.488652</td>\n",
       "      <td>138.250136</td>\n",
       "      <td>97.139791</td>\n",
       "      <td>185.471840</td>\n",
       "    </tr>\n",
       "    <tr>\n",
       "      <th>2016-04-30</th>\n",
       "      <td>124.664996</td>\n",
       "      <td>125.319381</td>\n",
       "      <td>82.394802</td>\n",
       "      <td>177.153838</td>\n",
       "    </tr>\n",
       "    <tr>\n",
       "      <th>2016-07-31</th>\n",
       "      <td>127.993693</td>\n",
       "      <td>128.682420</td>\n",
       "      <td>78.872905</td>\n",
       "      <td>189.437259</td>\n",
       "    </tr>\n",
       "    <tr>\n",
       "      <th>2016-10-31</th>\n",
       "      <td>127.509494</td>\n",
       "      <td>128.277892</td>\n",
       "      <td>75.699503</td>\n",
       "      <td>192.983402</td>\n",
       "    </tr>\n",
       "    <tr>\n",
       "      <th>2017-01-31</th>\n",
       "      <td>140.870260</td>\n",
       "      <td>141.664970</td>\n",
       "      <td>84.782926</td>\n",
       "      <td>211.349744</td>\n",
       "    </tr>\n",
       "    <tr>\n",
       "      <th>2017-04-30</th>\n",
       "      <td>128.046604</td>\n",
       "      <td>128.476967</td>\n",
       "      <td>69.656187</td>\n",
       "      <td>200.609751</td>\n",
       "    </tr>\n",
       "    <tr>\n",
       "      <th>2017-07-31</th>\n",
       "      <td>131.375300</td>\n",
       "      <td>132.012564</td>\n",
       "      <td>65.147006</td>\n",
       "      <td>213.531784</td>\n",
       "    </tr>\n",
       "    <tr>\n",
       "      <th>2017-10-31</th>\n",
       "      <td>130.891102</td>\n",
       "      <td>131.687204</td>\n",
       "      <td>61.593582</td>\n",
       "      <td>221.111321</td>\n",
       "    </tr>\n",
       "    <tr>\n",
       "      <th>2018-01-31</th>\n",
       "      <td>144.251867</td>\n",
       "      <td>144.959615</td>\n",
       "      <td>70.327803</td>\n",
       "      <td>236.875500</td>\n",
       "    </tr>\n",
       "    <tr>\n",
       "      <th>2018-04-30</th>\n",
       "      <td>131.428211</td>\n",
       "      <td>131.985684</td>\n",
       "      <td>52.453586</td>\n",
       "      <td>230.322845</td>\n",
       "    </tr>\n",
       "    <tr>\n",
       "      <th>2018-07-31</th>\n",
       "      <td>134.756908</td>\n",
       "      <td>135.304421</td>\n",
       "      <td>48.070859</td>\n",
       "      <td>241.958936</td>\n",
       "    </tr>\n",
       "    <tr>\n",
       "      <th>2018-10-31</th>\n",
       "      <td>134.272709</td>\n",
       "      <td>135.062281</td>\n",
       "      <td>46.239772</td>\n",
       "      <td>252.201856</td>\n",
       "    </tr>\n",
       "    <tr>\n",
       "      <th>2019-01-31</th>\n",
       "      <td>147.633475</td>\n",
       "      <td>148.246601</td>\n",
       "      <td>53.042009</td>\n",
       "      <td>268.194688</td>\n",
       "    </tr>\n",
       "    <tr>\n",
       "      <th>2019-04-30</th>\n",
       "      <td>134.809819</td>\n",
       "      <td>135.071406</td>\n",
       "      <td>37.156988</td>\n",
       "      <td>264.266824</td>\n",
       "    </tr>\n",
       "    <tr>\n",
       "      <th>2019-07-31</th>\n",
       "      <td>138.138516</td>\n",
       "      <td>138.560406</td>\n",
       "      <td>32.827814</td>\n",
       "      <td>275.561885</td>\n",
       "    </tr>\n",
       "    <tr>\n",
       "      <th>2019-10-31</th>\n",
       "      <td>137.654317</td>\n",
       "      <td>138.297592</td>\n",
       "      <td>28.054345</td>\n",
       "      <td>279.936863</td>\n",
       "    </tr>\n",
       "    <tr>\n",
       "      <th>2020-01-31</th>\n",
       "      <td>151.015083</td>\n",
       "      <td>151.990054</td>\n",
       "      <td>34.462871</td>\n",
       "      <td>304.641506</td>\n",
       "    </tr>\n",
       "    <tr>\n",
       "      <th>2020-04-30</th>\n",
       "      <td>138.191426</td>\n",
       "      <td>138.480601</td>\n",
       "      <td>19.795145</td>\n",
       "      <td>298.220021</td>\n",
       "    </tr>\n",
       "    <tr>\n",
       "      <th>2020-07-31</th>\n",
       "      <td>141.520123</td>\n",
       "      <td>142.276300</td>\n",
       "      <td>14.492965</td>\n",
       "      <td>320.128168</td>\n",
       "    </tr>\n",
       "    <tr>\n",
       "      <th>2020-10-31</th>\n",
       "      <td>141.035924</td>\n",
       "      <td>141.826977</td>\n",
       "      <td>9.702191</td>\n",
       "      <td>319.005765</td>\n",
       "    </tr>\n",
       "  </tbody>\n",
       "</table>\n",
       "</div>"
      ],
      "text/plain": [
       "                  mean  mean_numerical   lower_int   upper_int\n",
       "2013-07-31  117.848870      117.705074  107.735137  127.534253\n",
       "2013-10-31  117.364671      117.337341  106.386027  128.928195\n",
       "2014-01-31  130.725437      130.763066  117.887828  144.511963\n",
       "2014-04-30  117.901781      118.032985  103.358684  133.093461\n",
       "2014-07-31  121.230478      121.497114  101.305720  141.804978\n",
       "2014-10-31  120.746279      121.006920   98.899451  145.815412\n",
       "2015-01-31  134.107044      134.685863  108.835016  164.637301\n",
       "2015-04-30  121.283388      121.696968   94.284019  154.932834\n",
       "2015-07-31  124.612085      125.029985   91.808842  165.166101\n",
       "2015-10-31  124.127886      124.780695   89.391118  167.516899\n",
       "2016-01-31  137.488652      138.250136   97.139791  185.471840\n",
       "2016-04-30  124.664996      125.319381   82.394802  177.153838\n",
       "2016-07-31  127.993693      128.682420   78.872905  189.437259\n",
       "2016-10-31  127.509494      128.277892   75.699503  192.983402\n",
       "2017-01-31  140.870260      141.664970   84.782926  211.349744\n",
       "2017-04-30  128.046604      128.476967   69.656187  200.609751\n",
       "2017-07-31  131.375300      132.012564   65.147006  213.531784\n",
       "2017-10-31  130.891102      131.687204   61.593582  221.111321\n",
       "2018-01-31  144.251867      144.959615   70.327803  236.875500\n",
       "2018-04-30  131.428211      131.985684   52.453586  230.322845\n",
       "2018-07-31  134.756908      135.304421   48.070859  241.958936\n",
       "2018-10-31  134.272709      135.062281   46.239772  252.201856\n",
       "2019-01-31  147.633475      148.246601   53.042009  268.194688\n",
       "2019-04-30  134.809819      135.071406   37.156988  264.266824\n",
       "2019-07-31  138.138516      138.560406   32.827814  275.561885\n",
       "2019-10-31  137.654317      138.297592   28.054345  279.936863\n",
       "2020-01-31  151.015083      151.990054   34.462871  304.641506\n",
       "2020-04-30  138.191426      138.480601   19.795145  298.220021\n",
       "2020-07-31  141.520123      142.276300   14.492965  320.128168\n",
       "2020-10-31  141.035924      141.826977    9.702191  319.005765"
      ]
     },
     "execution_count": 177,
     "metadata": {},
     "output_type": "execute_result"
    }
   ],
   "source": [
    "pred_MAA=fit_MAA.get_prediction(start='2013-07-31', end='2020-10-31')\n",
    "df_MAA=pred_MAA.summary_frame(alpha=0.05)\n",
    "df_MAA = df_MAA.rename(columns={'pi_lower': 'lower_int', 'pi_upper': 'upper_int'})\n",
    "df_MAA"
   ]
  },
  {
   "cell_type": "code",
   "execution_count": 179,
   "metadata": {},
   "outputs": [
    {
     "name": "stdout",
     "output_type": "stream",
     "text": [
      "Lowest meaning in the table = 8.197633 , while the highest meaning = 320.93315\n"
     ]
    }
   ],
   "source": [
    "print(\"Lowest meaning in the table = \" + str(8.197633), \", while the highest meaning = \" + str(320.933150))"
   ]
  },
  {
   "cell_type": "markdown",
   "metadata": {},
   "source": [
    "Plot interval predictions:\n",
    "\n",
    "```plot_series()```"
   ]
  },
  {
   "cell_type": "code",
   "execution_count": 198,
   "metadata": {
    "scrolled": true
   },
   "outputs": [
    {
     "data": {
      "text/plain": [
       "(<Figure size 1152x288 with 1 Axes>, <AxesSubplot:ylabel='sales'>)"
      ]
     },
     "execution_count": 198,
     "metadata": {},
     "output_type": "execute_result"
    },
    {
     "data": {
      "image/png": "[encoded data removed]",
      "text/plain": [
       "<Figure size 1152x288 with 1 Axes>"
      ]
     },
     "metadata": {
      "needs_background": "light"
     },
     "output_type": "display_data"
    }
   ],
   "source": [
    "lower_int0 = df_MAA['lower_int']\n",
    "upper_int0 = df_MAA['upper_int']\n",
    "\n",
    "plot_series(y_test, lower_int0, upper_int0, labels=['Test', 'lower_int', 'upper_int'])"
   ]
  },
  {
   "cell_type": "markdown",
   "metadata": {},
   "source": [
    "### 2.4 Interval forecasts ETS(AAM) (1 pt.)\n",
    "[back to contents](#Contents)"
   ]
  },
  {
   "cell_type": "markdown",
   "metadata": {},
   "source": [
    "Get 95% confidence intervals:\n",
    "\n",
    "``` pred_AAM=fit_AAM.get_prediction(start='2013-07-31', end='2020-10-31') ```\n",
    "\n",
    "``` pred_AAM=pred_AAM.summary_frame(alpha=0.05) ```\n",
    "\n",
    "Expract upper and lower bounds from ```pred_MAA``` and name them ```upper_int``` and ```lower_int```"
   ]
  },
  {
   "cell_type": "code",
   "execution_count": 155,
   "metadata": {},
   "outputs": [
    {
     "data": {
      "text/html": [
       "<div>\n",
       "<style scoped>\n",
       "    .dataframe tbody tr th:only-of-type {\n",
       "        vertical-align: middle;\n",
       "    }\n",
       "\n",
       "    .dataframe tbody tr th {\n",
       "        vertical-align: top;\n",
       "    }\n",
       "\n",
       "    .dataframe thead th {\n",
       "        text-align: right;\n",
       "    }\n",
       "</style>\n",
       "<table border=\"1\" class=\"dataframe\">\n",
       "  <thead>\n",
       "    <tr style=\"text-align: right;\">\n",
       "      <th></th>\n",
       "      <th>mean</th>\n",
       "      <th>mean_numerical</th>\n",
       "      <th>lower_int</th>\n",
       "      <th>upper_int</th>\n",
       "    </tr>\n",
       "  </thead>\n",
       "  <tbody>\n",
       "    <tr>\n",
       "      <th>2013-07-31</th>\n",
       "      <td>119.244420</td>\n",
       "      <td>119.336734</td>\n",
       "      <td>115.789361</td>\n",
       "      <td>122.878231</td>\n",
       "    </tr>\n",
       "    <tr>\n",
       "      <th>2013-10-31</th>\n",
       "      <td>117.867086</td>\n",
       "      <td>117.932396</td>\n",
       "      <td>113.649435</td>\n",
       "      <td>122.330554</td>\n",
       "    </tr>\n",
       "    <tr>\n",
       "      <th>2014-01-31</th>\n",
       "      <td>133.457370</td>\n",
       "      <td>133.516741</td>\n",
       "      <td>128.585339</td>\n",
       "      <td>138.603267</td>\n",
       "    </tr>\n",
       "    <tr>\n",
       "      <th>2014-04-30</th>\n",
       "      <td>118.815370</td>\n",
       "      <td>118.951062</td>\n",
       "      <td>113.247153</td>\n",
       "      <td>124.288446</td>\n",
       "    </tr>\n",
       "    <tr>\n",
       "      <th>2014-07-31</th>\n",
       "      <td>124.107313</td>\n",
       "      <td>124.238978</td>\n",
       "      <td>118.230042</td>\n",
       "      <td>130.790550</td>\n",
       "    </tr>\n",
       "    <tr>\n",
       "      <th>2014-10-31</th>\n",
       "      <td>122.625299</td>\n",
       "      <td>122.738696</td>\n",
       "      <td>115.877945</td>\n",
       "      <td>129.847742</td>\n",
       "    </tr>\n",
       "    <tr>\n",
       "      <th>2015-01-31</th>\n",
       "      <td>138.791122</td>\n",
       "      <td>138.889612</td>\n",
       "      <td>130.918274</td>\n",
       "      <td>147.134635</td>\n",
       "    </tr>\n",
       "    <tr>\n",
       "      <th>2015-04-30</th>\n",
       "      <td>123.516964</td>\n",
       "      <td>123.619260</td>\n",
       "      <td>115.360601</td>\n",
       "      <td>131.374296</td>\n",
       "    </tr>\n",
       "    <tr>\n",
       "      <th>2015-07-31</th>\n",
       "      <td>128.970205</td>\n",
       "      <td>129.116374</td>\n",
       "      <td>119.929925</td>\n",
       "      <td>137.846589</td>\n",
       "    </tr>\n",
       "    <tr>\n",
       "      <th>2015-10-31</th>\n",
       "      <td>127.383511</td>\n",
       "      <td>127.452573</td>\n",
       "      <td>117.929042</td>\n",
       "      <td>136.911171</td>\n",
       "    </tr>\n",
       "    <tr>\n",
       "      <th>2016-01-31</th>\n",
       "      <td>144.124873</td>\n",
       "      <td>144.212265</td>\n",
       "      <td>132.964458</td>\n",
       "      <td>155.176983</td>\n",
       "    </tr>\n",
       "    <tr>\n",
       "      <th>2016-04-30</th>\n",
       "      <td>128.218558</td>\n",
       "      <td>128.285162</td>\n",
       "      <td>117.776246</td>\n",
       "      <td>138.583760</td>\n",
       "    </tr>\n",
       "    <tr>\n",
       "      <th>2016-07-31</th>\n",
       "      <td>133.833098</td>\n",
       "      <td>133.834810</td>\n",
       "      <td>122.203821</td>\n",
       "      <td>145.478131</td>\n",
       "    </tr>\n",
       "    <tr>\n",
       "      <th>2016-10-31</th>\n",
       "      <td>132.141724</td>\n",
       "      <td>132.114232</td>\n",
       "      <td>120.362728</td>\n",
       "      <td>144.176355</td>\n",
       "    </tr>\n",
       "    <tr>\n",
       "      <th>2017-01-31</th>\n",
       "      <td>149.458625</td>\n",
       "      <td>149.395434</td>\n",
       "      <td>135.530760</td>\n",
       "      <td>162.776488</td>\n",
       "    </tr>\n",
       "    <tr>\n",
       "      <th>2017-04-30</th>\n",
       "      <td>132.920152</td>\n",
       "      <td>132.752571</td>\n",
       "      <td>119.814688</td>\n",
       "      <td>145.743212</td>\n",
       "    </tr>\n",
       "    <tr>\n",
       "      <th>2017-07-31</th>\n",
       "      <td>138.695990</td>\n",
       "      <td>138.517606</td>\n",
       "      <td>124.078610</td>\n",
       "      <td>152.747986</td>\n",
       "    </tr>\n",
       "    <tr>\n",
       "      <th>2017-10-31</th>\n",
       "      <td>136.899936</td>\n",
       "      <td>136.637865</td>\n",
       "      <td>121.528059</td>\n",
       "      <td>151.673764</td>\n",
       "    </tr>\n",
       "    <tr>\n",
       "      <th>2018-01-31</th>\n",
       "      <td>154.792376</td>\n",
       "      <td>154.429039</td>\n",
       "      <td>137.369799</td>\n",
       "      <td>171.476278</td>\n",
       "    </tr>\n",
       "    <tr>\n",
       "      <th>2018-04-30</th>\n",
       "      <td>137.621746</td>\n",
       "      <td>137.191923</td>\n",
       "      <td>120.330055</td>\n",
       "      <td>153.109342</td>\n",
       "    </tr>\n",
       "    <tr>\n",
       "      <th>2018-07-31</th>\n",
       "      <td>143.558882</td>\n",
       "      <td>143.235558</td>\n",
       "      <td>126.216620</td>\n",
       "      <td>160.568677</td>\n",
       "    </tr>\n",
       "    <tr>\n",
       "      <th>2018-10-31</th>\n",
       "      <td>141.658149</td>\n",
       "      <td>141.241944</td>\n",
       "      <td>122.981015</td>\n",
       "      <td>159.478214</td>\n",
       "    </tr>\n",
       "    <tr>\n",
       "      <th>2019-01-31</th>\n",
       "      <td>160.126128</td>\n",
       "      <td>159.696636</td>\n",
       "      <td>138.241151</td>\n",
       "      <td>180.268728</td>\n",
       "    </tr>\n",
       "    <tr>\n",
       "      <th>2019-04-30</th>\n",
       "      <td>142.323340</td>\n",
       "      <td>141.925030</td>\n",
       "      <td>121.866064</td>\n",
       "      <td>161.289611</td>\n",
       "    </tr>\n",
       "    <tr>\n",
       "      <th>2019-07-31</th>\n",
       "      <td>148.421775</td>\n",
       "      <td>147.934321</td>\n",
       "      <td>126.869134</td>\n",
       "      <td>168.605254</td>\n",
       "    </tr>\n",
       "    <tr>\n",
       "      <th>2019-10-31</th>\n",
       "      <td>146.416362</td>\n",
       "      <td>145.821382</td>\n",
       "      <td>124.219461</td>\n",
       "      <td>167.099091</td>\n",
       "    </tr>\n",
       "    <tr>\n",
       "      <th>2020-01-31</th>\n",
       "      <td>165.459879</td>\n",
       "      <td>164.911017</td>\n",
       "      <td>140.018084</td>\n",
       "      <td>189.220876</td>\n",
       "    </tr>\n",
       "    <tr>\n",
       "      <th>2020-04-30</th>\n",
       "      <td>147.024934</td>\n",
       "      <td>146.395068</td>\n",
       "      <td>123.587661</td>\n",
       "      <td>168.485481</td>\n",
       "    </tr>\n",
       "    <tr>\n",
       "      <th>2020-07-31</th>\n",
       "      <td>153.284667</td>\n",
       "      <td>152.605445</td>\n",
       "      <td>127.479646</td>\n",
       "      <td>176.664138</td>\n",
       "    </tr>\n",
       "    <tr>\n",
       "      <th>2020-10-31</th>\n",
       "      <td>151.174574</td>\n",
       "      <td>150.499574</td>\n",
       "      <td>125.566937</td>\n",
       "      <td>175.089136</td>\n",
       "    </tr>\n",
       "  </tbody>\n",
       "</table>\n",
       "</div>"
      ],
      "text/plain": [
       "                  mean  mean_numerical   lower_int   upper_int\n",
       "2013-07-31  119.244420      119.336734  115.789361  122.878231\n",
       "2013-10-31  117.867086      117.932396  113.649435  122.330554\n",
       "2014-01-31  133.457370      133.516741  128.585339  138.603267\n",
       "2014-04-30  118.815370      118.951062  113.247153  124.288446\n",
       "2014-07-31  124.107313      124.238978  118.230042  130.790550\n",
       "2014-10-31  122.625299      122.738696  115.877945  129.847742\n",
       "2015-01-31  138.791122      138.889612  130.918274  147.134635\n",
       "2015-04-30  123.516964      123.619260  115.360601  131.374296\n",
       "2015-07-31  128.970205      129.116374  119.929925  137.846589\n",
       "2015-10-31  127.383511      127.452573  117.929042  136.911171\n",
       "2016-01-31  144.124873      144.212265  132.964458  155.176983\n",
       "2016-04-30  128.218558      128.285162  117.776246  138.583760\n",
       "2016-07-31  133.833098      133.834810  122.203821  145.478131\n",
       "2016-10-31  132.141724      132.114232  120.362728  144.176355\n",
       "2017-01-31  149.458625      149.395434  135.530760  162.776488\n",
       "2017-04-30  132.920152      132.752571  119.814688  145.743212\n",
       "2017-07-31  138.695990      138.517606  124.078610  152.747986\n",
       "2017-10-31  136.899936      136.637865  121.528059  151.673764\n",
       "2018-01-31  154.792376      154.429039  137.369799  171.476278\n",
       "2018-04-30  137.621746      137.191923  120.330055  153.109342\n",
       "2018-07-31  143.558882      143.235558  126.216620  160.568677\n",
       "2018-10-31  141.658149      141.241944  122.981015  159.478214\n",
       "2019-01-31  160.126128      159.696636  138.241151  180.268728\n",
       "2019-04-30  142.323340      141.925030  121.866064  161.289611\n",
       "2019-07-31  148.421775      147.934321  126.869134  168.605254\n",
       "2019-10-31  146.416362      145.821382  124.219461  167.099091\n",
       "2020-01-31  165.459879      164.911017  140.018084  189.220876\n",
       "2020-04-30  147.024934      146.395068  123.587661  168.485481\n",
       "2020-07-31  153.284667      152.605445  127.479646  176.664138\n",
       "2020-10-31  151.174574      150.499574  125.566937  175.089136"
      ]
     },
     "execution_count": 155,
     "metadata": {},
     "output_type": "execute_result"
    }
   ],
   "source": [
    "pred_AAM=fit_AAM.get_prediction(start='2013-07-31', end='2020-10-31')\n",
    "df_AAM=pred_AAM.summary_frame(alpha=0.05)\n",
    "df_AAM = df_AAM.rename(columns={'pi_lower': 'lower_int', 'pi_upper': 'upper_int'})\n",
    "df_AAM"
   ]
  },
  {
   "cell_type": "code",
   "execution_count": 180,
   "metadata": {},
   "outputs": [
    {
     "name": "stdout",
     "output_type": "stream",
     "text": [
      "Lowest meaning in the table = 113.247153 , while the highest meaning = 189.220876\n"
     ]
    }
   ],
   "source": [
    "print(\"Lowest meaning in the table = \" + str(113.247153), \", while the highest meaning = \" + str(189.220876))"
   ]
  },
  {
   "cell_type": "markdown",
   "metadata": {},
   "source": [
    "Plot interval predictions:\n",
    "\n",
    "```plot_series()```"
   ]
  },
  {
   "cell_type": "code",
   "execution_count": 197,
   "metadata": {
    "scrolled": true
   },
   "outputs": [
    {
     "data": {
      "text/plain": [
       "(<Figure size 1152x288 with 1 Axes>, <AxesSubplot:ylabel='sales'>)"
      ]
     },
     "execution_count": 197,
     "metadata": {},
     "output_type": "execute_result"
    },
    {
     "data": {
      "image/png": "[encoded data removed]",
      "text/plain": [
       "<Figure size 1152x288 with 1 Axes>"
      ]
     },
     "metadata": {
      "needs_background": "light"
     },
     "output_type": "display_data"
    }
   ],
   "source": [
    "lower_int = df_AAM['lower_int']\n",
    "upper_int = df_AAM['upper_int']\n",
    "\n",
    "plot_series(y_test, lower_int, upper_int, labels=['Test', 'lower_int', 'upper_int'])"
   ]
  },
  {
   "cell_type": "markdown",
   "metadata": {},
   "source": [
    "### 2.5 Forecast quality metrics (2 pt.)\n",
    "[back to contents](#Contents)"
   ]
  },
  {
   "cell_type": "markdown",
   "metadata": {},
   "source": [
    "Calculate the following metrics for both ETS(MAA) and ETS(AAM) predictions:"
   ]
  },
  {
   "cell_type": "markdown",
   "metadata": {},
   "source": [
    "$MAE = \\frac{\\sum\\limits_{i=1}^n |y_i-\\hat{y}_i|}{n}$\n",
    "\n",
    "```python\n",
    "sklearn.metrics.mean_absolute_error\n",
    "```"
   ]
  },
  {
   "cell_type": "code",
   "execution_count": 188,
   "metadata": {
    "collapsed": true,
    "jupyter": {
     "outputs_hidden": true
    }
   },
   "outputs": [
    {
     "name": "stdout",
     "output_type": "stream",
     "text": [
      "Collecting sklearn\n",
      "  Downloading sklearn-0.0.tar.gz (1.1 kB)\n",
      "Requirement already satisfied: scikit-learn in c:\\abaconda\\lib\\site-packages (from sklearn) (0.23.2)\n",
      "Requirement already satisfied: numpy>=1.13.3 in c:\\abaconda\\lib\\site-packages (from scikit-learn->sklearn) (1.19.2)\n",
      "Requirement already satisfied: threadpoolctl>=2.0.0 in c:\\abaconda\\lib\\site-packages (from scikit-learn->sklearn) (2.1.0)\n",
      "Requirement already satisfied: scipy>=0.19.1 in c:\\abaconda\\lib\\site-packages (from scikit-learn->sklearn) (1.5.2)\n",
      "Requirement already satisfied: joblib>=0.11 in c:\\abaconda\\lib\\site-packages (from scikit-learn->sklearn) (0.17.0)\n",
      "Building wheels for collected packages: sklearn\n",
      "  Building wheel for sklearn (setup.py): started\n",
      "  Building wheel for sklearn (setup.py): finished with status 'done'\n",
      "  Created wheel for sklearn: filename=sklearn-0.0-py2.py3-none-any.whl size=1321 sha256=6c0cee768f682347116c96d39054503e5a7d66acce71c94096598ee31c9ca736\n",
      "  Stored in directory: c:\\users\\егор\\appdata\\local\\pip\\cache\\wheels\\22\\0b\\40\\fd3f795caaa1fb4c6cb738bc1f56100be1e57da95849bfc897\n",
      "Successfully built sklearn\n",
      "Installing collected packages: sklearn\n",
      "Successfully installed sklearn-0.0\n"
     ]
    }
   ],
   "source": [
    "!pip install sklearn"
   ]
  },
  {
   "cell_type": "code",
   "execution_count": 269,
   "metadata": {},
   "outputs": [
    {
     "data": {
      "text/plain": [
       "6.394546567403895"
      ]
     },
     "execution_count": 269,
     "metadata": {},
     "output_type": "execute_result"
    }
   ],
   "source": [
    "# MAE for ETS(MAA) predictions\n",
    "import sklearn.metrics as skmet\n",
    "skmet.mean_absolute_error(y_test, y_pred2)"
   ]
  },
  {
   "cell_type": "code",
   "execution_count": 270,
   "metadata": {},
   "outputs": [
    {
     "data": {
      "text/plain": [
       "12.709147584469212"
      ]
     },
     "execution_count": 270,
     "metadata": {},
     "output_type": "execute_result"
    }
   ],
   "source": [
    "# MAE for ETS(AAM) predictions\n",
    "import sklearn.metrics as skmet\n",
    "skmet.mean_absolute_error(y_test, y_pred1)"
   ]
  },
  {
   "cell_type": "markdown",
   "metadata": {},
   "source": [
    "$MSE = \\frac{\\sum\\limits_{i=1}^n (y_i-\\hat{y}_i)^2}{n}$\n",
    "\n",
    "```python\n",
    "sklearn.metrics.mean_squared_error\n",
    "```"
   ]
  },
  {
   "cell_type": "code",
   "execution_count": 272,
   "metadata": {},
   "outputs": [
    {
     "data": {
      "text/plain": [
       "50.57147029554047"
      ]
     },
     "execution_count": 272,
     "metadata": {},
     "output_type": "execute_result"
    }
   ],
   "source": [
    "# MSE for ETS(MAA) predictions\n",
    "import sklearn.metrics as skmet\n",
    "skmet.mean_squared_error(y_test, y_pred2)"
   ]
  },
  {
   "cell_type": "code",
   "execution_count": 271,
   "metadata": {},
   "outputs": [
    {
     "data": {
      "text/plain": [
       "195.96973859049746"
      ]
     },
     "execution_count": 271,
     "metadata": {},
     "output_type": "execute_result"
    }
   ],
   "source": [
    "# MSE for ETS(AAM) predictions\n",
    "import sklearn.metrics as skmet\n",
    "skmet.mean_squared_error(y_test, y_pred1)"
   ]
  },
  {
   "cell_type": "markdown",
   "metadata": {},
   "source": [
    "$MAPE = \\frac{100}{n}\\frac{\\sum\\limits_{i=1}^n |y_i-\\hat{y}_i|}{y_i}$ \n",
    "\n",
    "```python\n",
    "def mean_absolute_percentage_error(y_true, y_pred): \n",
    "    return np.mean(np.abs((y_true - y_pred) / y_true)) * 100\n",
    "```"
   ]
  },
  {
   "cell_type": "markdown",
   "metadata": {},
   "source": [
    "Create a new function to calculate MAPE"
   ]
  },
  {
   "cell_type": "code",
   "execution_count": null,
   "metadata": {},
   "outputs": [],
   "source": [
    "#a new function to calculate MAPE\n",
    "Error = np.sum(np.abs(np.subtract(y_test,y_pred)))\n",
    "Average = np.sum(y_test)\n",
    "MAPE = Error/Average\n",
    "print(MAPE)"
   ]
  },
  {
   "cell_type": "markdown",
   "metadata": {},
   "source": [
    "***Calculate MAPE:***"
   ]
  },
  {
   "cell_type": "code",
   "execution_count": 278,
   "metadata": {},
   "outputs": [
    {
     "name": "stdout",
     "output_type": "stream",
     "text": [
      "10.135802479067124\n",
      "9.99351293519372\n"
     ]
    }
   ],
   "source": [
    "# MAPE for ETS(AAM) predictions\n",
    "import numpy as np\n",
    "def mean_absolute_percentage_error(y_test, y_predd): \n",
    "    return np.mean(np.abs((y_test - y_predd) / y_test)) * 100\n",
    "\n",
    "# difficult way of calculating MAPE\n",
    "Error1 = np.sum(np.abs(np.subtract(y_test,y_pred1)))\n",
    "Average1 = np.sum(y_test)\n",
    "MAPE1 = Error1/Average1*100\n",
    "print(MAPE1)\n",
    "\n",
    "# common way of calculating MAPE\n",
    "print(mean_absolute_percentage_error(y_test, y_pred1))"
   ]
  },
  {
   "cell_type": "code",
   "execution_count": 283,
   "metadata": {},
   "outputs": [
    {
     "name": "stdout",
     "output_type": "stream",
     "text": [
      "5.099780336928825\n",
      "5.091700990450361\n"
     ]
    }
   ],
   "source": [
    "# MAPE for ETS(MAA) predictions\n",
    "\n",
    "# difficult way of calculating MAPE\n",
    "Error2 = np.sum(np.abs(np.subtract(y_test,y_pred2)))\n",
    "Average2 = np.sum(y_test)\n",
    "MAPE2 = Error2/Average2*100\n",
    "print(MAPE2)\n",
    "\n",
    "# common way of calculating MAPE\n",
    "print(mean_absolute_percentage_error(y_test, y_pred2))"
   ]
  },
  {
   "cell_type": "markdown",
   "metadata": {},
   "source": [
    "### 2.6 What is the best model according to the metrics above? (1 pt.)"
   ]
  },
  {
   "cell_type": "code",
   "execution_count": 301,
   "metadata": {},
   "outputs": [
    {
     "name": "stdout",
     "output_type": "stream",
     "text": [
      "MAA model is better according to MAE metric\n",
      "MAA model is better according to MSE metric\n",
      "MAA model is better according to MAPE metric\n"
     ]
    }
   ],
   "source": [
    "# MODEL AAM - \"1\", MODEL MAA - \"2\" \n",
    "mae1 = float(skmet.mean_absolute_error(y_test, y_pred1))\n",
    "mae2 = float(skmet.mean_absolute_error(y_test, y_pred2))\n",
    "mse1 = float(skmet.mean_squared_error(y_test, y_pred1))\n",
    "mse2 = float(skmet.mean_squared_error(y_test, y_pred2))\n",
    "mape1 = float(mean_absolute_percentage_error(y_test, y_pred1))\n",
    "mape2 = float(mean_absolute_percentage_error(y_test, y_pred2))\n",
    "\n",
    "#Compare models according to understanding that smaller error is better for model's quality\n",
    "if mae1>mae2:\n",
    "    print(\"MAA model is better according to MAE metric\")\n",
    "else:\n",
    "    print(\"AAM model is better according to MAE metric\")\n",
    "    \n",
    "if mse1>mse2:\n",
    "    print(\"MAA model is better according to MSE metric\")\n",
    "else:\n",
    "    print(\"AAM model is better according to MSE metric\")\n",
    "    \n",
    "if mape1>mape2:\n",
    "    print(\"MAA model is better according to MAPE metric\")\n",
    "else:\n",
    "    print(\"AAM model is better according to MAPE metric\")"
   ]
  }
 ],
 "metadata": {
  "kernelspec": {
   "display_name": "Python 3",
   "language": "python",
   "name": "python3"
  },
  "language_info": {
   "codemirror_mode": {
    "name": "ipython",
    "version": 3
   },
   "file_extension": ".py",
   "mimetype": "text/x-python",
   "name": "python",
   "nbconvert_exporter": "python",
   "pygments_lexer": "ipython3",
   "version": "3.8.5"
  }
 },
 "nbformat": 4,
 "nbformat_minor": 4
}
